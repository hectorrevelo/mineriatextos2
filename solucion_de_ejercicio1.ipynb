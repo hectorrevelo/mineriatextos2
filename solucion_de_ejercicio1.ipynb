{
  "nbformat": 4,
  "nbformat_minor": 0,
  "metadata": {
    "colab": {
      "name": "Copia de ejercicio1.ipynb",
      "provenance": [],
      "include_colab_link": true
    },
    "kernelspec": {
      "name": "python3",
      "display_name": "Python 3"
    }
  },
  "cells": [
    {
      "cell_type": "markdown",
      "metadata": {
        "id": "view-in-github",
        "colab_type": "text"
      },
      "source": [
        "<a href=\"https://colab.research.google.com/github/hectorrevelo/mineriatextos2/blob/master/solucion_de_ejercicio1.ipynb\" target=\"_parent\"><img src=\"https://colab.research.google.com/assets/colab-badge.svg\" alt=\"Open In Colab\"/></a>"
      ]
    },
    {
      "cell_type": "code",
      "metadata": {
        "id": "7XDNm3c5by_n",
        "colab_type": "code",
        "outputId": "604185c1-1a4c-4e67-ab7d-08df0132a0be",
        "colab": {
          "base_uri": "https://localhost:8080/",
          "height": 102
        }
      },
      "source": [
        "from sklearn.feature_extraction.text import CountVectorizer \n",
        "frase = [\"The fool man thinks he is wise,\", \"but the wise man knows himself to be a fool\"] \n",
        "print(\"frase:\\n{}\".format(frase)) \n",
        "cv = CountVectorizer(ngram_range=(1, 1)).fit(frase) \n",
        "print(\"Tamaño de vocabulario: {}\".format(len(cv.vocabulary_)))\n",
        "print(\"Vocabulario:\\n{}\".format(cv.get_feature_names())) "
      ],
      "execution_count": 0,
      "outputs": [
        {
          "output_type": "stream",
          "text": [
            "frase:\n",
            "['The fool man thinks he is wise,', 'but the wise man knows himself to be a fool']\n",
            "Tamaño de vocabulario: 12\n",
            "Vocabulario:\n",
            "['be', 'but', 'fool', 'he', 'himself', 'is', 'knows', 'man', 'the', 'thinks', 'to', 'wise']\n"
          ],
          "name": "stdout"
        }
      ]
    },
    {
      "cell_type": "code",
      "metadata": {
        "id": "H58MvsdgZ6dB",
        "colab_type": "code",
        "outputId": "34a080a2-e62f-4d93-a780-0f17ccecf948",
        "colab": {
          "base_uri": "https://localhost:8080/",
          "height": 88
        }
      },
      "source": [
        "cv = CountVectorizer(ngram_range=(2, 2)).fit(frase) \n",
        "print(\"Tamaño de vocabulario: {}\".format(len(cv.vocabulary_))) \n",
        "print(\"Vocabulario:\\n{}\".format(cv.get_feature_names())) \n"
      ],
      "execution_count": 0,
      "outputs": [
        {
          "output_type": "stream",
          "text": [
            "Tamaño de vocabulario: 14\n",
            "Vocabulario:\n",
            "['be fool', 'but the', 'fool man', 'he is', 'himself to', 'is wise', 'knows himself', 'man knows', 'man thinks', 'the fool', 'the wise', 'thinks he', 'to be', 'wise man']\n"
          ],
          "name": "stdout"
        }
      ]
    },
    {
      "cell_type": "code",
      "metadata": {
        "id": "MM0KidouaI7N",
        "colab_type": "code",
        "outputId": "155047a0-3c17-44bc-a753-f7ddad32fd1d",
        "colab": {
          "base_uri": "https://localhost:8080/",
          "height": 88
        }
      },
      "source": [
        "cv = CountVectorizer(analyzer='char',ngram_range=(3, 3)).fit(frase) \n",
        "print(\"Tamaño de vocabulario: {}\".format(len(cv.vocabulary_))) \n",
        "print(\"Vocabulario:\\n{}\".format(cv.get_feature_names())) \n"
      ],
      "execution_count": 0,
      "outputs": [
        {
          "output_type": "stream",
          "text": [
            "Tamaño de vocabulario: 56\n",
            "Vocabulario:\n",
            "[' a ', ' be', ' fo', ' he', ' hi', ' is', ' kn', ' ma', ' th', ' to', ' wi', 'a f', 'an ', 'be ', 'but', 'e a', 'e f', 'e i', 'e m', 'e w', 'elf', 'f t', 'foo', 'he ', 'him', 'hin', 'ims', 'ink', 'is ', 'ise', 'kno', 'ks ', 'l m', 'lf ', 'man', 'mse', 'n k', 'n t', 'nks', 'now', 'o b', 'ol ', 'ool', 'ows', 's h', 's w', 'se ', 'se,', 'sel', 't t', 'the', 'thi', 'to ', 'ut ', 'wis', 'ws ']\n"
          ],
          "name": "stdout"
        }
      ]
    }
  ]
}