{
  "nbformat": 4,
  "nbformat_minor": 0,
  "metadata": {
    "colab": {
      "name": "ejercicio1.ipynb",
      "provenance": [],
      "include_colab_link": true
    },
    "kernelspec": {
      "name": "python3",
      "display_name": "Python 3"
    }
  },
  "cells": [
    {
      "cell_type": "markdown",
      "metadata": {
        "id": "view-in-github",
        "colab_type": "text"
      },
      "source": [
        "<a href=\"https://colab.research.google.com/github/hectorrevelo/mineriatextos2/blob/master/ejercicio1.ipynb\" target=\"_parent\"><img src=\"https://colab.research.google.com/assets/colab-badge.svg\" alt=\"Open In Colab\"/></a>"
      ]
    },
    {
      "cell_type": "code",
      "metadata": {
        "id": "7XDNm3c5by_n",
        "colab_type": "code",
        "outputId": "0d9ef475-1af0-4823-8983-1b464583b87e",
        "colab": {
          "base_uri": "https://localhost:8080/",
          "height": 102
        }
      },
      "source": [
        "from sklearn.feature_extraction.text import CountVectorizer \n",
        "frase = [\"The fool man thinks he is wise,\", \"but the wise man knows himself to be a fool\"] \n",
        "print(\"frase:\\n{}\".format(frase)) \n",
        "cv = CountVectorizer(ngram_range=(1, 1)).fit(frase) \n",
        "print(\"Tamaño de vocabulario: {}\".format(len(cv.vocabulary_)))\n",
        "print(\"Vocabulario:\\n{}\".format(cv.get_feature_names())) "
      ],
      "execution_count": 0,
      "outputs": [
        {
          "output_type": "stream",
          "text": [
            "frase:\n",
            "['The fool man thinks he is wise,', 'but the wise man knows himself to be a fool']\n",
            "Tamaño de vocabulario: 12\n",
            "Vocabulario:\n",
            "['be', 'but', 'fool', 'he', 'himself', 'is', 'knows', 'man', 'the', 'thinks', 'to', 'wise']\n"
          ],
          "name": "stdout"
        }
      ]
    }
  ]
}