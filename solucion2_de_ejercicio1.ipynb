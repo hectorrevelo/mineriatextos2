{
  "nbformat": 4,
  "nbformat_minor": 0,
  "metadata": {
    "colab": {
      "name": "Copia de ejercicio1.ipynb",
      "provenance": [],
      "include_colab_link": true
    },
    "kernelspec": {
      "name": "python3",
      "display_name": "Python 3"
    }
  },
  "cells": [
    {
      "cell_type": "markdown",
      "metadata": {
        "id": "view-in-github",
        "colab_type": "text"
      },
      "source": [
        "<a href=\"https://colab.research.google.com/github/hectorrevelo/mineriatextos2/blob/master/solucion2_de_ejercicio1.ipynb\" target=\"_parent\"><img src=\"https://colab.research.google.com/assets/colab-badge.svg\" alt=\"Open In Colab\"/></a>"
      ]
    },
    {
      "cell_type": "code",
      "metadata": {
        "id": "7XDNm3c5by_n",
        "colab_type": "code",
        "outputId": "07bcf220-ceee-4032-e494-3a23240ededd",
        "colab": {
          "base_uri": "https://localhost:8080/",
          "height": 102
        }
      },
      "source": [
        "from sklearn.feature_extraction.text import CountVectorizer \n",
        "frase = [\"su auto grande pasó velozmente\", \"tu auto rojo es más caro\"] \n",
        "print(\"frase:\\n{}\".format(frase)) \n",
        "cv = CountVectorizer(ngram_range=(1, 1)).fit(frase) \n",
        "print(\"Tamaño de vocabulario: {}\".format(len(cv.vocabulary_)))\n",
        "print(\"Vocabulario:\\n{}\".format(cv.get_feature_names())) "
      ],
      "execution_count": 4,
      "outputs": [
        {
          "output_type": "stream",
          "text": [
            "frase:\n",
            "['su auto grande pasó velozmente', 'tu auto rojo es más caro']\n",
            "Tamaño de vocabulario: 10\n",
            "Vocabulario:\n",
            "['auto', 'caro', 'es', 'grande', 'más', 'pasó', 'rojo', 'su', 'tu', 'velozmente']\n"
          ],
          "name": "stdout"
        }
      ]
    },
    {
      "cell_type": "code",
      "metadata": {
        "id": "H58MvsdgZ6dB",
        "colab_type": "code",
        "outputId": "519ea2a9-a209-4646-b6fa-d339219ce8bf",
        "colab": {
          "base_uri": "https://localhost:8080/",
          "height": 68
        }
      },
      "source": [
        "cv = CountVectorizer(ngram_range=(2, 2)).fit(frase) \n",
        "print(\"Tamaño de vocabulario: {}\".format(len(cv.vocabulary_))) \n",
        "print(\"Vocabulario:\\n{}\".format(cv.get_feature_names())) \n"
      ],
      "execution_count": 5,
      "outputs": [
        {
          "output_type": "stream",
          "text": [
            "Tamaño de vocabulario: 9\n",
            "Vocabulario:\n",
            "['auto grande', 'auto rojo', 'es más', 'grande pasó', 'más caro', 'pasó velozmente', 'rojo es', 'su auto', 'tu auto']\n"
          ],
          "name": "stdout"
        }
      ]
    },
    {
      "cell_type": "code",
      "metadata": {
        "id": "MM0KidouaI7N",
        "colab_type": "code",
        "outputId": "4da28c4e-1bec-4409-b762-f5862b0e8d51",
        "colab": {
          "base_uri": "https://localhost:8080/",
          "height": 88
        }
      },
      "source": [
        "cv = CountVectorizer(analyzer='char',ngram_range=(5, 5)).fit(frase) \n",
        "print(\"Tamaño de vocabulario: {}\".format(len(cv.vocabulary_))) \n",
        "print(\"Vocabulario:\\n{}\".format(cv.get_feature_names())) \n"
      ],
      "execution_count": 6,
      "outputs": [
        {
          "output_type": "stream",
          "text": [
            "Tamaño de vocabulario: 43\n",
            "Vocabulario:\n",
            "[' auto', ' caro', ' es m', ' gran', ' más ', ' pasó', ' rojo', ' velo', 'ande ', 'asó v', 'auto ', 'de pa', 'e pas', 'elozm', 'es má', 'grand', 'jo es', 'lozme', 'mente', 'más c', 'nde p', 'o es ', 'o gra', 'o roj', 'ojo e', 'ozmen', 'pasó ', 'rande', 'rojo ', 's car', 's más', 'su au', 'só ve', 'to gr', 'to ro', 'tu au', 'u aut', 'uto g', 'uto r', 'veloz', 'zment', 'ás ca', 'ó vel']\n"
          ],
          "name": "stdout"
        }
      ]
    }
  ]
}